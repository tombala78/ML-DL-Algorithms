{
 "cells": [
  {
   "cell_type": "code",
   "execution_count": 1,
   "id": "dfce2abf-f8b3-4ee6-88dc-c01336060871",
   "metadata": {},
   "outputs": [],
   "source": [
    "import random\n",
    "from math import sqrt"
   ]
  },
  {
   "cell_type": "code",
   "execution_count": 7,
   "id": "8dd36d92-acb4-4963-addc-17d5e64e3a76",
   "metadata": {},
   "outputs": [],
   "source": [
    "class kmeans:\n",
    "    def __init__(self,points,K):\n",
    "        self.points=points\n",
    "        self.K=K\n",
    "        self.centroids=random.sample(self.points,K)\n",
    "    def euclidian_distance(self,a,b):\n",
    "        return sum((p1-p2)**2 for p1,p2 in zip(a,b))**2\n",
    "    def assign_clusters(self):\n",
    "        clusters=[[] for _ in self.centroids]\n",
    "        for point in self.points:\n",
    "            closest_centroid=min(self.centroids,key=lambda centroid:self.euclidian_distance(point,centroid))\n",
    "            clusters[self.centroids.index(closest_centroid)].append(point)\n",
    "        self.clusters=clusters\n",
    "    def new_centroids(self):\n",
    "        new_centroids=[]\n",
    "        for cluster in self.clusters:\n",
    "            if cluster:\n",
    "                new_centroid=[sum(coord)/len(cluster) for coord in zip(*cluster)]\n",
    "                new_centroids.append(new_centroid)\n",
    "        return new_centroids\n",
    "    def kmeans(self,max_iterations=100):\n",
    "        for _ in range(max_iterations):\n",
    "            self.assign_clusters()\n",
    "            new_centroids=self.new_centroids()\n",
    "            if(self.centroids==new_centroids):\n",
    "                break\n",
    "            self.centroids=new_centroids\n",
    "        return self.clusters,self.centroids"
   ]
  },
  {
   "cell_type": "code",
   "execution_count": 8,
   "id": "a7adf438-e80d-4b97-8146-0a8729ffd6cf",
   "metadata": {},
   "outputs": [],
   "source": [
    "points=[[100,20],[69, 53],  [10, 20], [20, 10], [89, 58], [90, 60]]\n",
    "K=3\n",
    "km=kmeans(points,K)\n",
    "clusters2,centroids2=km.kmeans()"
   ]
  },
  {
   "cell_type": "code",
   "execution_count": 9,
   "id": "9a7000bf-2f6f-41d3-8a94-4eadf957f494",
   "metadata": {},
   "outputs": [
    {
     "data": {
      "text/plain": [
       "[[[100, 20], [89, 58], [90, 60]], [[69, 53]], [[10, 20], [20, 10]]]"
      ]
     },
     "execution_count": 9,
     "metadata": {},
     "output_type": "execute_result"
    }
   ],
   "source": [
    "clusters2"
   ]
  },
  {
   "cell_type": "code",
   "execution_count": 10,
   "id": "028ec05a-d200-4237-9083-7c836adb12aa",
   "metadata": {},
   "outputs": [
    {
     "data": {
      "text/plain": [
       "[[93.0, 46.0], [69.0, 53.0], [15.0, 15.0]]"
      ]
     },
     "execution_count": 10,
     "metadata": {},
     "output_type": "execute_result"
    }
   ],
   "source": [
    "centroids2"
   ]
  },
  {
   "cell_type": "code",
   "execution_count": null,
   "id": "44667459-f506-47fa-a8ed-03948572189e",
   "metadata": {},
   "outputs": [],
   "source": []
  }
 ],
 "metadata": {
  "kernelspec": {
   "display_name": "Python 3 (ipykernel)",
   "language": "python",
   "name": "python3"
  },
  "language_info": {
   "codemirror_mode": {
    "name": "ipython",
    "version": 3
   },
   "file_extension": ".py",
   "mimetype": "text/x-python",
   "name": "python",
   "nbconvert_exporter": "python",
   "pygments_lexer": "ipython3",
   "version": "3.11.7"
  }
 },
 "nbformat": 4,
 "nbformat_minor": 5
}
